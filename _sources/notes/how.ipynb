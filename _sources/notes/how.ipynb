{
 "cells": [
  {
   "cell_type": "markdown",
   "id": "genuine-start",
   "metadata": {},
   "source": [
    "# How this site was built\n",
    "\n",
    "This site's content was written with [markdown](https://commonmark.org/help/) and jupyter notebook files and then rendered as this static HTML website (via github pages).  \n",
    "\n",
    "This site supports the Spring 2021 Eco 340 [tophat course site](https://app.tophat.com/e/054232). Tophat is used to deliver online assignments and some reading,  multimedia and interactive content.  Much of the content mirrored there was first edited here. \n",
    "\n",
    "Tools used:\n",
    "\n",
    "- [Jupyter Book](https://jupyterbook.org) - Creates website with markdown and jupyter notebooks.  Files used for site are listed in the [_toc.yml](_toc.yml) table of contents file.\n",
    "- [Typora](https://typora.io/) - a WYSIWYG markdown editor.  Pages here look close to rendered HTML or tophat pages.\n",
    "- [Notable](https://notable.app/) ([beta release](https://github.com/notable/notable-insiders/releases)). Useful markdown app that keeps things organized with tags. \n",
    "\n",
    "- [YAML headers](https://yaml.org/)  - if you look at the raw markdown files you will see metadata (title, date created, modified, tags, etc) information stored in the header (before the `---` separator).  Notable and jupyterbook use this information but it is hidden on rendered pages.\n",
    "\n",
    "## Interactive 'apps'\n",
    "\n",
    "On some pages you'll see interactive widgets that allow you to interact with graphs.  All the embedded geogebra apps (javascript) should be interactive in any browser with an internet connection. To interact with python apps you'll usually have to launch the page first using the binder or Google Colab buttons that you'll see on the page.\n",
    "\n",
    "- [Geogebra](https://www.geogebra.org/) \n",
    "- [Econ-Teach/trade](https://github.com/jhconning/Econ-Teach/tree/master/notebooks) python applets"
   ]
  }
 ],
 "metadata": {
  "created": "2021-01-04T05:16:39.780Z",
  "jupytext": {
   "cell_metadata_filter": "-all",
   "formats": "md:myst",
   "text_representation": {
    "extension": ".md",
    "format_name": "myst"
   }
  },
  "kernelspec": {
   "display_name": "Python 3",
   "language": "python",
   "name": "python3"
  },
  "language_info": {
   "codemirror_mode": {
    "name": "ipython",
    "version": 3
   },
   "file_extension": ".py",
   "mimetype": "text/x-python",
   "name": "python",
   "nbconvert_exporter": "python",
   "pygments_lexer": "ipython3",
   "version": "3.7.9"
  },
  "modified": "2021-01-28T02:14:58.788Z",
  "source_map": [
   8
  ],
  "tags": [
   "post"
  ],
  "title": "how"
 },
 "nbformat": 4,
 "nbformat_minor": 5
}