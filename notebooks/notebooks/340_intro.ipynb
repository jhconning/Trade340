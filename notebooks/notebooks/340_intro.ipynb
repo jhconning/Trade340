{
 "cells": [
  {
   "cell_type": "markdown",
   "metadata": {
    "slideshow": {
     "slide_type": "slide"
    }
   },
   "source": [
    "# International Trade:\n",
    "# Theory and Policy"
   ]
  },
  {
   "cell_type": "markdown",
   "metadata": {
    "slideshow": {
     "slide_type": "-"
    }
   },
   "source": [
    "## Economics 340\n",
    "## Fall 2017"
   ]
  },
  {
   "cell_type": "markdown",
   "metadata": {
    "slideshow": {
     "slide_type": "-"
    }
   },
   "source": [
    "## Jonathan Conning"
   ]
  },
  {
   "cell_type": "markdown",
   "metadata": {
    "slideshow": {
     "slide_type": "slide"
    }
   },
   "source": [
    "# Course Information"
   ]
  },
  {
   "cell_type": "markdown",
   "metadata": {
    "slideshow": {
     "slide_type": "-"
    }
   },
   "source": [
    "Office Hours: TBA\n",
    "\n",
    "Office:  HW 1504A\n",
    "\n",
    "jconning@hunter.cuny.edu\n"
   ]
  },
  {
   "cell_type": "markdown",
   "metadata": {
    "slideshow": {
     "slide_type": "-"
    }
   },
   "source": [
    "Course site:  www.www.www"
   ]
  },
  {
   "cell_type": "markdown",
   "metadata": {
    "slideshow": {
     "slide_type": "slide"
    }
   },
   "source": [
    "# Textbook and resources\n",
    "\n",
    "Textbook buy/rent, paperback/ebook options:\n",
    "\n",
    "- College Bookstore\n",
    "- Shakespeare Books \\$30 (used)\n",
    "- ebook from coursesmart or Wiley \\$57-72\n",
    "- Kindle \\$42-53\n"
   ]
  },
  {
   "cell_type": "markdown",
   "metadata": {
    "slideshow": {
     "slide_type": "slide"
    }
   },
   "source": [
    "# Evaluation\n",
    "- Online assignments/quizzes and Participation (25%)\n",
    "- Higher of Midterm and Final (45%)\n",
    "- Lower of Midterm and Final (30%) \n"
   ]
  },
  {
   "cell_type": "markdown",
   "metadata": {
    "slideshow": {
     "slide_type": "slide"
    }
   },
   "source": [
    "# What would *your* life be like without trade?"
   ]
  },
  {
   "cell_type": "markdown",
   "metadata": {},
   "source": [
    "\tTrade in our personal lives.\n",
    "\n",
    "\n",
    "\tTrade between nations.\n",
    "\n",
    "\tShould we have free trade?  \n",
    "Free movement of capital? \n",
    "Free movement of labor?\n",
    "\n",
    "A $9.95 toaster vs. one made at home\n",
    "\n",
    "That toaster\n",
    "\tHow many people involved?\n",
    "\tDo they know each other? \n",
    "\tWho coordinated them to produce such a cheap product?\n",
    "\n",
    "\tMade in China.\n",
    "\tDid that ‘destroy’ US jobs?  \n",
    "\tHow much of the $9.95 goes to China?\n",
    "\n",
    "Trade is a technology\n",
    "\n",
    "Trade for economics training and intuition\n",
    "\tDeeper insight into concepts such as opportunity cost and comparative advantage\n",
    "\tSharpens your eye to opportunities and tradeoffs.\n",
    "\n",
    "\tGeneral equilibrium interactions.\n",
    "Small applied GE models.\n",
    "\n",
    "\tFoundations of a theory of Political Economy\n",
    "\tWinners and losers  conflicting interests \n",
    " interesting and unavoidable politics\n",
    "\tInsights into rent-seeking, corruption; \n",
    "collective action and its failure. \n",
    "Related questions\n",
    "\tTrade and Technology in a globalized world.\n",
    "\tWill a robot/AI take my job? \n",
    "\tFree us from tedium or leave us pauperized?\n",
    "\tWho will capture the ‘gains to trade and new technology’?   \n",
    "\tDo I have the skills/training to succeed in this fast changing world? \n",
    "\tSimilar questions in history. \n",
    "\tTrade, technology, human rights and environment?\n",
    "\tDevelopment and sovereignty\n",
    "\tMigration and capital controls. Trade agreements\n",
    "History of Technology and Trade\n",
    "\tThe rise of output and tade\n",
    "\tTechnological revolutions\n",
    "\tTrade revolutions\n",
    "\tFirst wave of globalization\n",
    "\tSecond wave\n",
    "Exponential Growth\n",
    "\tConstant rate \n",
    "of growth g  \n",
    "Logarithmic Transforms\n",
    "Growth As a Modern Phenomenon\n",
    "Rule of 72\n",
    "\tHow many years does it take to double GNI per capita if economy is growing at g = 2 % per year. \n",
    "\n",
    "\tTo a first approximation it takes t years where: \n",
    "\n",
    "\n",
    "\n",
    "\tExample: Countries growing at 1.5 percent (8 percent) will double income every \n",
    "\n",
    "    Something Changed..\n",
    "From a Brad de Long Growth/History lecture:\n",
    "\t“..in the agrarian age [8000 BC-1500] each year saw on average 1/2000th more stuff produced than the previous year. “ \n",
    "[doubling every 1400 yrs]\n",
    "\t“…in the 1500-1800 commercial revolution …1/200th more …”  [=2x every 140 yrs]\n",
    "\t“… in the 1st century of the industrial revolution [19th century] … perhaps 1/70th more ..” [=2x every 50 yrs] \n",
    "\t... today world global GDP is growing by about 1/30th every year.  … doubling every generation …” [2x every 21 yrs]\n",
    "\t[we’re MUCH richer but it made] …\n",
    "\t“….1968 the most unequal world that humanity has ever seen..” \n",
    "\n",
    "\tAre we becoming more or less equal?  Role of trade?\n",
    "\n",
    "\n",
    "ONE COUNTRY = ONE OBSERVATION VIEW:\n",
    "But if count people not countries\n",
    "World Income inequality appears to lessen\n",
    "\n",
    "Key Forms of International Integration\n",
    "\n",
    "\tRise in trade flows.\n",
    "\tConvergence of international prices.\n",
    "\tForeign portfolio investment.\n",
    "\tForeign direct investment (FDI).\n",
    "\tMigrant labor\n",
    "\tImmigration\n",
    "\tOffshoring (aka “outsourcing”)\n",
    "\n",
    "Two huge waves of globalization\n",
    "\n",
    "\t19th century \n",
    "(possibly centered on 1820’s)\n",
    "\n",
    "\t20th century (after 1970)\n",
    "\n",
    "\n",
    "\n",
    "\n",
    "\n",
    "\n",
    "Basic Terms\n",
    "\tImports\n",
    "The purchase of goods or services from another country.\n",
    "\n",
    "\tExports\n",
    "The sale of goods or services to other countries.\n",
    "\tGermany had the largest exports of goods in 2005 with China and the U.S. coming in second and third.\n",
    "\n",
    "Basic Terms\n",
    "\tTrade Balance \n",
    "The difference between the total value of exports and the total value of imports.\n",
    "\tUsually includes both goods and services\n",
    "\n",
    "\tTrade Surplus \n",
    "Total value of exports > the total value of imports\n",
    "\n",
    "\tTrade Deficit \n",
    "Total value of exports < the total value of imports\n",
    "\tU.S. trade deficit in 2008 ≈ $695 Billion \n",
    "U.S. trade deficit in 2009 ≈ $375 Billion \n",
    "\n",
    "Basic Trade Terminology\n",
    "\tBilateral Trade Balance\n",
    "The difference between exports and imports between two countries.\n",
    "\tThe U.S. trade deficit with China was $290 billion in 2012.\n",
    "\tChina’s overall trade balance with the world is smaller ($231bn in 2012)\n",
    "\tIn this course we mostly assume trade is balanced. Why?\n",
    "\tTrade deficit and surpluses primarily due to macroeconomic fluctuations and cannot persist in the very long-run \n",
    "(without further borrowing)\n",
    "\tBilateral trade balances are often tricky/misleading since the value added by the exporting country may be minor relative to the total value of exports "
   ]
  },
  {
   "cell_type": "markdown",
   "metadata": {},
   "source": [
    "Macro determinants of trade balance\n",
    "Y + M ≡  C + I + G + X\n",
    "\n",
    "Y ≡  (C + I + G) + (X – M)\n",
    "\n",
    "Y ≡  E + (X – M)\n",
    "\n",
    "Y – E ≡ (X – M)\n",
    "\n",
    "Y > E   Trade surplus \n",
    "\n",
    "Y < E   Trade deficit\n",
    "\n",
    "Trade is always balanced in the sense that deficit nation sells (IOUs) in exchange for current goods and services.\n",
    "Macro determinants of the trade balance\n",
    "Y – E ≡ (X – M)\n",
    "\n",
    "US trade deficit of recent years\n",
    "\n",
    "High foreign demand for US assets (‘foreign supply of capital”) plus US macro policy (Fed loose money supply and G spending) drove Expenditure (consumption and investment) to rise beyond output.  \n",
    "\n",
    "Deficit of Goods and services had supplied from abroad.\n",
    "\n",
    "Foreigners accumulated US assets in exchange (e.g. treasury bills, stocks, MBS, etc).\n",
    "\n",
    "Is it bad to run a trade deficit?"
   ]
  },
  {
   "cell_type": "markdown",
   "metadata": {
    "slideshow": {
     "slide_type": "slide"
    }
   },
   "source": [
    "### The ‘twin’ deficits  \n",
    "\n",
    "$$Y ≡  C + I + G + (X – M)$$"
   ]
  },
  {
   "cell_type": "markdown",
   "metadata": {
    "slideshow": {
     "slide_type": "fragment"
    }
   },
   "source": [
    "subtract taxes T from each side:"
   ]
  },
  {
   "cell_type": "markdown",
   "metadata": {
    "slideshow": {
     "slide_type": "fragment"
    }
   },
   "source": [
    "$$ Y – T ≡  C + I + (G – T) + (X – M)$$"
   ]
  },
  {
   "cell_type": "markdown",
   "metadata": {
    "slideshow": {
     "slide_type": "fragment"
    }
   },
   "source": [
    "$$Y – T - C ≡ I + (G – T) + (X – M)$$"
   ]
  },
  {
   "cell_type": "markdown",
   "metadata": {
    "slideshow": {
     "slide_type": "fragment"
    }
   },
   "source": [
    "$$S ≡ I + (G – T) + (X – M)$$"
   ]
  },
  {
   "cell_type": "markdown",
   "metadata": {
    "slideshow": {
     "slide_type": "slide"
    }
   },
   "source": [
    "$$S ≡ I + (G – T) + (X – M)$$"
   ]
  },
  {
   "cell_type": "markdown",
   "metadata": {
    "slideshow": {
     "slide_type": "fragment"
    }
   },
   "source": [
    "$$(S – I) ≡ (G – T) + (X – M)$$"
   ]
  },
  {
   "cell_type": "markdown",
   "metadata": {
    "slideshow": {
     "slide_type": "fragment"
    }
   },
   "source": [
    "$$(S – I) + (T-G) ≡ (X – M)$$"
   ]
  },
  {
   "cell_type": "markdown",
   "metadata": {},
   "source": [
    "\n",
    "Basic terms\n",
    "Ways countries can trade:\n",
    "\n",
    "- \tTrade goods and services for goods and services (real analysis)\n",
    "\n",
    "- \tTrade goods and services for assets (monetary analysis)\n",
    "\n",
    "- \tTrade assets for assets (monetary analysis)\n",
    "Composition and Pattern of International Trade\n",
    "Composition of World Trade\n",
    "- \tMerchandise goods\n",
    "\tManufacturing  - Iron, Steel, Chemicals, Machineries and Transportation Equipment, Textile, and Clothing\n",
    "\tMining - Copper, Coal, Oil etc.\n",
    "\tAgricultural products - Wheat, Sugar, Cotton, etc.\n",
    "\n",
    "- \tService exports\n",
    "\tTravel Services\n",
    "\tInsurance Services\n",
    "\tTransportation Services\n",
    "\n",
    "- \tCombining all goods and services, the U.S. is the world’s largest exporter followed by Germany and China.\n",
    "\n",
    "Composition of World Trade\n",
    "Composition of World Trade\n",
    "Who Trades with Whom? \n",
    "- \tTrade patterns between developed and developing countries\n",
    "\n",
    "\tMore than 50% of world trade of merchandise flows amongst developed countries\n",
    "\n",
    "\tLess than 15% of world trade flows amongst developing countries\n",
    "\n",
    "\tA third (35%) of world trade flows between developed and developing countries\n",
    "\t\n",
    "\n",
    "Map of World Trade\n",
    "Evolution of International Trade\n",
    "Openness to trade          =[(X+M)/2]/GDP\n",
    "\n",
    "But wait… \n",
    "- \tHow can the US be such a ‘closed economy’ when so many of the goods I buy seem to be made in China and other countries!?   \n",
    "\n",
    "Barbie Doll in World Trade\n",
    "Stripping down an Ipad\n",
    "- \tIpad sells in US for $499\n",
    "- \tImport price $250. \n",
    "Says “Assembled in China.”\n",
    "- \tHow much of value-added from China?\n",
    "\tHard to figure b/c so many components.\n",
    "\tGood guess: ~$12.\n",
    "\n",
    "- \tMore detailed analysis for 2005 Ipod:\n",
    "The 30 GB Ipod\n",
    "“Designed by Apple, Made in China”  circa 2005\n",
    "Map of World Trade\n"
   ]
  },
  {
   "cell_type": "code",
   "execution_count": null,
   "metadata": {
    "collapsed": true
   },
   "outputs": [],
   "source": []
  }
 ],
 "metadata": {
  "celltoolbar": "Slideshow",
  "hide_input": false,
  "kernelspec": {
   "display_name": "Python [default]",
   "language": "python",
   "name": "python3"
  },
  "language_info": {
   "codemirror_mode": {
    "name": "ipython",
    "version": 3
   },
   "file_extension": ".py",
   "mimetype": "text/x-python",
   "name": "python",
   "nbconvert_exporter": "python",
   "pygments_lexer": "ipython3",
   "version": "3.6.1"
  }
 },
 "nbformat": 4,
 "nbformat_minor": 2
}
