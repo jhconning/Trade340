{
 "cells": [
  {
   "cell_type": "markdown",
   "metadata": {},
   "source": [
    "## Fall 2017 Contents"
   ]
  },
  {
   "cell_type": "markdown",
   "metadata": {
    "slideshow": {
     "slide_type": "slide"
    }
   },
   "source": [
    "[Shipping video](http://www.shipmap.org),  [Vox discussion](https://www.vox.com/2016/4/25/11503152/shipping-routes-map)"
   ]
  },
  {
   "cell_type": "code",
   "execution_count": 16,
   "metadata": {
    "slideshow": {
     "slide_type": "-"
    }
   },
   "outputs": [
    {
     "data": {
      "text/html": [
       "<iframe src=\"//www.shipmap.org\" style=\"width: 100%; height: 600px; border: 0\" frameborder=\"0\"></div>"
      ],
      "text/plain": [
       "<IPython.core.display.HTML object>"
      ]
     },
     "metadata": {},
     "output_type": "display_data"
    }
   ],
   "source": [
    "%%HTML \n",
    "<iframe src=\"//www.shipmap.org\" style=\"width: 100%; height: 600px; border: 0\" frameborder=\"0\"></div>"
   ]
  },
  {
   "cell_type": "markdown",
   "metadata": {
    "slideshow": {
     "slide_type": "slide"
    }
   },
   "source": [
    "# Assigned readings and questions\n",
    "\n",
    "\n",
    "## Broad Stats and Visualization\n",
    "\n",
    "http://atlas.cid.harvard.edu/explore/tree_map/export/usa/all/show/2014/\n",
    "\n",
    "https://www.vox.com/2016/4/25/11503152/shipping-routes-map"
   ]
  },
  {
   "cell_type": "markdown",
   "metadata": {
    "slideshow": {
     "slide_type": "slide"
    }
   },
   "source": [
    "## Macro identities\n",
    "\n",
    "The Economist (2017) [The contradiction at the heart of Trumponomics: You can’t have tax cuts, an investment boom and a smaller trade deficit](http://www.economist.com/news/briefing/21721936-you-cant-have-tax-cuts-investment-boom-and-smaller-trade-deficit-contradiction?fsrc=scn/tw/te/bl/ed/), May 13\n",
    "\n",
    "\n",
    "## Sweatshops\n",
    "\n",
    "Krugman, Paul (1997) [In Praise of Cheap Labor: Bad jobs at bad wages are better than no jobs at all](http://www.slate.com/articles/business/the_dismal_science/1997/03/in_praise_of_cheap_labor.html), *Slate.* \n",
    "\n",
    "Blattman and Dercon (2017) [Everything we knew about sweatshops was wrong](https://www.nytimes.com/2017/04/27/opinion/do-sweatshops-lift-workers-out-of-poverty.html?smid=tw-share&_r=1), New York Times, April 27\n",
    "\n",
    "http://www.npr.org/sections/money/2015/08/12/431961808/episode-497-the-sisters-who-made-our-t-shirt"
   ]
  },
  {
   "cell_type": "markdown",
   "metadata": {
    "slideshow": {
     "slide_type": "slide"
    }
   },
   "source": [
    "## Ricardian Model\n",
    "\n",
    "https://krugman.blogs.nytimes.com/2014/06/17/german-labor-costs/"
   ]
  },
  {
   "cell_type": "markdown",
   "metadata": {},
   "source": [
    "## Productivity\n",
    "\n",
    "Vollrath, Dietrich (2017) [Slumping Productivity, We're victims of our own success](http://thehill.com/blogs/pundits-blog/economy-budget/336395-victims-of-our-own-success-why-us-productivity-lags-and-why), The Hill, June 5\n",
    "\n",
    "https://www.wired.com/2013/01/cat-videos/"
   ]
  },
  {
   "cell_type": "markdown",
   "metadata": {},
   "source": [
    "## Gravity Model\n",
    "\n",
    "[Gravity Model jupyter notebook](https://github.com/jstac/econometrics/blob/master/notebooks/Chapter_12/gravity_regression/GravityModelExample.ipynb)"
   ]
  },
  {
   "cell_type": "markdown",
   "metadata": {},
   "source": [
    "## Automation, Luddism\n",
    "\n",
    "http://mashable.com/2016/09/04/knockers-up/#MNH9Zio7TEqd Knockers-up\n",
    "\n",
    "https://www.project-syndicate.org/commentary/automation-labor-market-inequality-by-laura-tyson-2017-06\n",
    "\n",
    "https://www.nytimes.com/2016/12/21/upshot/the-long-term-jobs-killer-is-not-china-its-automation.html\n",
    "\n",
    "http://www.newyorker.com/magazine/2014/06/23/the-disruption-machine\n",
    "\n",
    "http://www.economist.com/news/business-and-finance/21719761-probably-not-humans-have-lot-learn-equine-experience-will-robots\n",
    "\n",
    "\n",
    "Horses\n",
    "https://cityroom.blogs.nytimes.com/2008/06/09/when-horses-posed-a-public-health-hazard/"
   ]
  },
  {
   "cell_type": "markdown",
   "metadata": {},
   "source": [
    "## Political Economy\n",
    "\n",
    "https://americanaffairsjournal.org/2017/05/new-class-war/\n",
    "\n",
    "http://www.slate.com/articles/news_and_politics/politics/2017/04/the_response_to_the_retail_apocalypse_shows_which_workers_count_in_trump.html?wpsrc=sh_all_dt_tw_bot\n",
    "\n",
    "http://blogs.lse.ac.uk/politicsandpolicy/historical-predictions-that-technology-would-bring-calamity-have-largely-failed/?utm_content=bufferf6bfd&utm_medium=social&utm_source=twitter.com&utm_campaign=buffer\n",
    "\n",
    "\n",
    "https://www.project-syndicate.org/commentary/free-trade-losers-compensation-too-late-by-dani-rodrik-2017-04\n",
    "\n",
    "https://www.project-syndicate.org/commentary/anti-globalization-backlash-from-right-by-dani-rodrik-2016-07"
   ]
  },
  {
   "cell_type": "markdown",
   "metadata": {},
   "source": [
    "## Immigration\n",
    "\n",
    "http://www.latimes.com/projects/la-fi-construction-trump/\n",
    "\n",
    "http://www.economist.com/blogs/democracyinamerica/2015/07/immigration-and-crime"
   ]
  },
  {
   "cell_type": "markdown",
   "metadata": {},
   "source": [
    "## Prices and redistribution\n",
    "\n",
    "https://www.theguardian.com/commentisfree/2013/jan/16/vegans-stomach-unpalatable-truth-quinoa"
   ]
  },
  {
   "cell_type": "markdown",
   "metadata": {},
   "source": [
    "## Other websites\n",
    "\n",
    "\n",
    "http://www.npr.org/sections/money/\n",
    "Planet Money on Vimeo https://vimeo.com/user3572793"
   ]
  },
  {
   "cell_type": "markdown",
   "metadata": {},
   "source": [
    "## Videos \n",
    "https://www.youtube.com/watch?v=i0fEiw4ycyY  Amazon Kiva robots"
   ]
  },
  {
   "cell_type": "markdown",
   "metadata": {
    "slideshow": {
     "slide_type": "slide"
    }
   },
   "source": [
    "## Misc"
   ]
  },
  {
   "cell_type": "code",
   "execution_count": null,
   "metadata": {
    "collapsed": true
   },
   "outputs": [],
   "source": []
  },
  {
   "cell_type": "code",
   "execution_count": null,
   "metadata": {
    "collapsed": true
   },
   "outputs": [],
   "source": []
  },
  {
   "cell_type": "code",
   "execution_count": null,
   "metadata": {
    "collapsed": true
   },
   "outputs": [],
   "source": []
  }
 ],
 "metadata": {
  "celltoolbar": "Slideshow",
  "hide_input": false,
  "kernelspec": {
   "display_name": "Python [default]",
   "language": "python",
   "name": "python3"
  },
  "language_info": {
   "codemirror_mode": {
    "name": "ipython",
    "version": 3
   },
   "file_extension": ".py",
   "mimetype": "text/x-python",
   "name": "python",
   "nbconvert_exporter": "python",
   "pygments_lexer": "ipython3",
   "version": "3.6.2"
  },
  "toc": {
   "colors": {
    "hover_highlight": "#DAA520",
    "navigate_num": "#000000",
    "navigate_text": "#333333",
    "running_highlight": "#FF0000",
    "selected_highlight": "#FFD700",
    "sidebar_border": "#EEEEEE",
    "wrapper_background": "#FFFFFF"
   },
   "moveMenuLeft": true,
   "nav_menu": {
    "height": "282px",
    "width": "252px"
   },
   "navigate_menu": true,
   "number_sections": true,
   "sideBar": true,
   "threshold": 4,
   "toc_cell": false,
   "toc_section_display": "block",
   "toc_window_display": false,
   "widenNotebook": false
  },
  "varInspector": {
   "cols": {
    "lenName": 16,
    "lenType": 16,
    "lenVar": 40
   },
   "kernels_config": {
    "python": {
     "delete_cmd_postfix": "",
     "delete_cmd_prefix": "del ",
     "library": "var_list.py",
     "varRefreshCmd": "print(var_dic_list())"
    },
    "r": {
     "delete_cmd_postfix": ") ",
     "delete_cmd_prefix": "rm(",
     "library": "var_list.r",
     "varRefreshCmd": "cat(var_dic_list()) "
    }
   },
   "types_to_exclude": [
    "module",
    "function",
    "builtin_function_or_method",
    "instance",
    "_Feature"
   ],
   "window_display": false
  }
 },
 "nbformat": 4,
 "nbformat_minor": 2
}
